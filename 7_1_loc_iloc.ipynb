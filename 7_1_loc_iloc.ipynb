{
  "nbformat": 4,
  "nbformat_minor": 0,
  "metadata": {
    "colab": {
      "name": "7.1.loc.iloc.ipynb",
      "provenance": [],
      "collapsed_sections": []
    },
    "kernelspec": {
      "name": "python3",
      "display_name": "Python 3"
    },
    "language_info": {
      "name": "python"
    }
  },
  "cells": [
    {
      "cell_type": "code",
      "metadata": {
        "id": "FgzlqrF0za9n"
      },
      "source": [
        "#pandas loc/iloc정리\n",
        "\n",
        "\n",
        "import pandas as pd"
      ],
      "execution_count": 1,
      "outputs": []
    },
    {
      "cell_type": "code",
      "metadata": {
        "id": "gq_NKXZZzqmd"
      },
      "source": [
        "#행인덱스\n",
        "\n",
        "df.loc[0]\n",
        "#[는]원하는 행의 번호\n",
        "#시리즈의 형태로 반환\n",
        "\n",
        "df.loc[0:4]\n",
        "#0~4번 인덱스에 해당하는 5개 행을 가진 df이 반환됨\n",
        "\n",
        "df.loc[0:0]\n",
        "#정상적으로 df자료형으로 반환됨\n",
        "\n",
        "\n",
        "#df.loc[::2]\n",
        "#df.loc[[1,3,5]]...\n",
        "#직접 결과를 확인해보기\n",
        "\n",
        "#df.loc[df['Age']>70]\n",
        "#age가 70이상인 탑승객들에 대한 정보가 나타나게 될 것임"
      ],
      "execution_count": null,
      "outputs": []
    },
    {
      "cell_type": "code",
      "metadata": {
        "id": "QMiFy3xS4JlC"
      },
      "source": [
        "#열인덱스\n",
        "\n",
        "df.loc[:,'Age'].head()\n",
        "#1.은 행 인덱싱 때와 마찬가지로 시리즈 형태로 반환\n",
        "\n",
        "df.loc[:,['PassengerId','Age']].head()\n",
        "#2.는 정상적으로 DataFrame형태로 반환\n",
        "\n",
        "df.loc[:,['Age']].head()\n",
        "#로 [] 한 겹 더 씌워주면 1번도 데이터프레임 형태로 반환"
      ],
      "execution_count": null,
      "outputs": []
    },
    {
      "cell_type": "code",
      "metadata": {
        "id": "U5rw4WSB5wM7"
      },
      "source": [
        "#행 열 인덱싱 동시에 가능\n",
        "\n",
        "df.loc[252:256,['PassengerId','Survived']]\n",
        "#1.은 252~ 256번 인덱스를 가진 행의 아이디와 생존 여부.\n",
        "\n",
        "df.loc[df['Age']>60,['PassengerId', 'Survived']]\n",
        "#2번은 Age가 60이상인 행들의 아이디와 생존 여부 인덱싱 결과"
      ],
      "execution_count": null,
      "outputs": []
    },
    {
      "cell_type": "code",
      "metadata": {
        "id": "dzSJJXSU6Utq"
      },
      "source": [
        ""
      ],
      "execution_count": null,
      "outputs": []
    },
    {
      "cell_type": "code",
      "metadata": {
        "id": "pvI8XppC6moB"
      },
      "source": [
        "###loc와 iloc와 다른점\n",
        "loc에서는 252~256을 찾을때\n",
        "252:257이 아닌 252:256이 된다는 점"
      ],
      "execution_count": null,
      "outputs": []
    },
    {
      "cell_type": "code",
      "metadata": {
        "id": "pBSr3hem6mqY"
      },
      "source": [
        ""
      ],
      "execution_count": null,
      "outputs": []
    },
    {
      "cell_type": "code",
      "metadata": {
        "id": "QgbwjDDf6Uv8"
      },
      "source": [
        "#iloc\n",
        "\n",
        "#iloc함수는 원하는 행/열의 번호를 가지고 찾는 방법\n",
        "#열도 몇 번째 열에 있는지에 대한 정보를 가지고 추출하는 방법\n",
        "#예를 들면, 150~154번째 행의 2,3번째 열에 대한 정보를 찾고 싶을 때\n",
        "\n",
        "df.iloc[150:155, 2:4]\n",
        "#코드로 입력해주면 됨."
      ],
      "execution_count": null,
      "outputs": []
    },
    {
      "cell_type": "code",
      "metadata": {
        "id": "boi3PE4u64W4"
      },
      "source": [
        ""
      ],
      "execution_count": null,
      "outputs": []
    },
    {
      "cell_type": "code",
      "metadata": {
        "id": "E8y6jclz6yJp"
      },
      "source": [
        "###loc와 iloc와 다른점\n",
        "iloc에서는 252~256을 찾을때\n",
        "252:256이 아닌 252:257이 된다는 점"
      ],
      "execution_count": null,
      "outputs": []
    },
    {
      "cell_type": "code",
      "metadata": {
        "id": "b2ci3ICD6yL9"
      },
      "source": [
        ""
      ],
      "execution_count": null,
      "outputs": []
    },
    {
      "cell_type": "code",
      "metadata": {
        "id": "PXyK4LN86yN7"
      },
      "source": [
        "df.iloc[[1,3,5,7,9],[2,5,9]]\n",
        "#1,3,5,7,9 번째 행의 2,5,9번째 열을 가져오는 것"
      ],
      "execution_count": null,
      "outputs": []
    },
    {
      "cell_type": "code",
      "metadata": {
        "id": "Dk_hy6Gz7Co0"
      },
      "source": [
        ""
      ],
      "execution_count": null,
      "outputs": []
    }
  ]
}