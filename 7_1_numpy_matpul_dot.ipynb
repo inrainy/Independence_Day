{
  "nbformat": 4,
  "nbformat_minor": 0,
  "metadata": {
    "colab": {
      "name": "7.1.numpy.matpul.dot.ipynb",
      "provenance": []
    },
    "kernelspec": {
      "name": "python3",
      "display_name": "Python 3"
    },
    "language_info": {
      "name": "python"
    }
  },
  "cells": [
    {
      "cell_type": "code",
      "metadata": {
        "colab": {
          "base_uri": "https://localhost:8080/"
        },
        "id": "70TJK7iinSFy",
        "outputId": "e8eb1aa2-3b8e-415b-b68e-3989d11f2433"
      },
      "source": [
        "#numpy에서의 행렬곱\n",
        "\n",
        "# matmul\n",
        "# dot\n",
        "\n",
        "import numpy as np\n",
        "\n",
        "A = np.arange(2*3*4).reshape((2,3,4))\n",
        "B = np.arange(2*3*4).reshape((2,4,3))\n",
        "\n",
        "print(np.dot(A,B).shape)\n",
        "print(np.matmul(A,B).shape)"
      ],
      "execution_count": 1,
      "outputs": [
        {
          "output_type": "stream",
          "text": [
            "(2, 3, 2, 3)\n",
            "(2, 3, 3)\n"
          ],
          "name": "stdout"
        }
      ]
    },
    {
      "cell_type": "code",
      "metadata": {
        "colab": {
          "base_uri": "https://localhost:8080/"
        },
        "id": "PXSZ2zsunzbz",
        "outputId": "b8b29334-f151-43e1-ca67-611297b2b238"
      },
      "source": [
        "#numpy.dot\n",
        "# 5) If a is an N-D array and b is an M-D array (where M>=2),\n",
        "#it is a sum product over the last axis of a and the second-to-last axis of b.\n",
        "# 5) 만약 a가 N차원 배열이고 b가 2이상의 M차원 배열이라면,\n",
        "#dot(a,b)는 a의 마지막 축과 b의 뒤에서 두번째 축과의 내적으로 계산된다.\n",
        "\n",
        "A.shape #(a1, a2, a3)\n",
        "B.shape #(b1, b2, b3)\n",
        "\n",
        "#     -->a3==b2\n",
        "C = np.dot(A,B)\n",
        "C.shape\n",
        "#(a1, a2, b1, b3)"
      ],
      "execution_count": 4,
      "outputs": [
        {
          "output_type": "execute_result",
          "data": {
            "text/plain": [
              "(2, 3, 2, 3)"
            ]
          },
          "metadata": {
            "tags": []
          },
          "execution_count": 4
        }
      ]
    },
    {
      "cell_type": "markdown",
      "metadata": {
        "id": "S-sB38mVquP7"
      },
      "source": [
        "#numpy.dot 3차원\n",
        "a3=b2\n",
        "\n",
        "import numpy as np\n",
        "\n",
        "A = np.arange(2*3*4).reshape((2,3,4))\n",
        "\n",
        "B1 = np.arange(2*3*4).reshape((2,3,4))\n",
        "\n",
        "B2 = np.arange(2*3*4).reshape((2,4,3))\n",
        "\n",
        "B3 = np.arange(2*3*4).reshape((3,2,4))\n",
        "\n",
        "B4 = np.arange(2*3*4).reshape((3,4,2))\n",
        "\n",
        "B5 = np.arange(2*3*4).reshape((4,2,3))\n",
        "\n",
        "B6 = np.arange(2*3*4).reshape((4,3,2))\n",
        "\n",
        "\n",
        "\n",
        "\n",
        "\n",
        "np.dot(A,B1) # Error\n",
        "\n",
        "np.dot(A,B2) # Ok -> (2,3,2,3)\n",
        "\n",
        "np.dot(A,B3) # Error\n",
        "\n",
        "np.dot(A,B4) # Ok -> (2,3,3,2)\n",
        "\n",
        "np.dot(A,B5) # Error\n",
        "\n",
        "np.dot(A,B6) # Error\n",
        "\n",
        "\n",
        "\n",
        "\n",
        "dot 연산은\n",
        "\n",
        "np.dot(A,B)[i,j,k,m] == np.sum(A[i,j,:] * B[k,:,m])\n",
        "\n",
        "이렇게 보면 된다!"
      ]
    },
    {
      "cell_type": "code",
      "metadata": {
        "colab": {
          "base_uri": "https://localhost:8080/"
        },
        "id": "-yvcSuRHn5_T",
        "outputId": "df2f545e-486c-473d-8846-2162a1d18b8c"
      },
      "source": [
        "#numpy.matmul\n",
        "# 2) If either argument is N-D, N > 2, it is treated as a stack of matrices\n",
        "#residing in the last two indexes and broadcast accordingly.\n",
        "# 2) 만약 배열이 2차원보다 클 경우, 마지막 2개의 축으로 이루어진 행렬을\n",
        "# 나머지 축에 따라 쌓아놓은 것이라고 생각한다.\n",
        "\n",
        "\n",
        "\n",
        "A.shape #(a1, a2, a3)\n",
        "B.shape #(b1, b2, b3)\n",
        "\n",
        "#     -->a1==b1 and\n",
        "#     -->a3==b2\n",
        "\n",
        "# 즉 a1 = i 이고\n",
        "#    a2 = j\n",
        "#    a3 = k 일때\n",
        "#    b1 = i 이고 = a1 이며\n",
        "#    b2 = k 이고 = a3 이고\n",
        "#    b3 = L 이다.\n",
        "\n",
        "C = np.matmul(A,B)\n",
        "C.shape\n",
        "#(a1, a2, b3)"
      ],
      "execution_count": 5,
      "outputs": [
        {
          "output_type": "execute_result",
          "data": {
            "text/plain": [
              "(2, 3, 3)"
            ]
          },
          "metadata": {
            "tags": []
          },
          "execution_count": 5
        }
      ]
    },
    {
      "cell_type": "markdown",
      "metadata": {
        "id": "ixjCEeCtsGYm"
      },
      "source": [
        "#넘파이 matmul 3차원\n",
        "\n",
        "a1 = b1\n",
        "a3 = b2\n",
        "\n",
        "\n",
        "import numpy as np\n",
        "\n",
        "A = np.arange(2*3*4).reshape((2,3,4))\n",
        "\n",
        "B1 = np.arange(2*3*4).reshape((2,3,4))\n",
        "\n",
        "B2 = np.arange(2*3*4).reshape((2,4,3))\n",
        "\n",
        "B3 = np.arange(2*3*4).reshape((3,2,4))\n",
        "\n",
        "B4 = np.arange(2*3*4).reshape((3,4,2))\n",
        "\n",
        "B5 = np.arange(2*3*4).reshape((4,2,3))\n",
        "\n",
        "B6 = np.arange(2*3*4).reshape((4,3,2))\n",
        "\n",
        "\n",
        "\n",
        "np.matmul(A,B1) # Error\n",
        "\n",
        "\n",
        "np.matmul(A,B2) # Ok -> (2,3,3)\n",
        "\n",
        "np.matmul(A,B3) # Error\n",
        "\n",
        "np.matmul(A,B4) # Error\n",
        "\n",
        "np.matmul(A,B5) # Error\n",
        "\n",
        "np.matmul(A,B6) # Error\n",
        "\n",
        "\n",
        "\n",
        "matmul 3차원 공식\n",
        "np.matmul(A,B)[i,j,k] == np.sum(A[i,j,:] * B[i,:,k])"
      ]
    },
    {
      "cell_type": "code",
      "metadata": {
        "id": "YC-MalcOsXv6"
      },
      "source": [
        "\n"
      ],
      "execution_count": null,
      "outputs": []
    },
    {
      "cell_type": "markdown",
      "metadata": {
        "id": "vkfEGwrHtAcR"
      },
      "source": [
        "Numpy에서 제공하는 두 함수 dot과 matmul은 2차원 행렬의 곱셈에서는 서로 같은 기능을 수행한다. 하지만 고차원 배열 또는 텐서의 곱셈에서는 그 용법이 전혀 다르다.\n",
        "\n",
        "텐서플로우(Tensorflow)에서도 matmul과 dot 함수가 있다. 이들의 차이는 본 포스트에서 알아본 Numpy 차이와 다르지 않을 것으로 예상되지만, 정확히 어떤 차이가 있는지는 분석해봐야 알 것이다."
      ]
    }
  ]
}