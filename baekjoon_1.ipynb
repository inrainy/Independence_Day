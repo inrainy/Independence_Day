{
  "nbformat": 4,
  "nbformat_minor": 0,
  "metadata": {
    "colab": {
      "name": "baekjoon_1.ipynb",
      "provenance": [],
      "collapsed_sections": []
    },
    "kernelspec": {
      "name": "python3",
      "display_name": "Python 3"
    },
    "language_info": {
      "name": "python"
    }
  },
  "cells": [
    {
      "cell_type": "code",
      "metadata": {
        "id": "eFsAA8uvCRuI"
      },
      "source": [
        "#10430번\n",
        "\n",
        "#(A+B)%C는 ((A%C) + (B%C))%C 와 같을까?\n",
        "\n",
        "#(A×B)%C는 ((A%C) × (B%C))%C 와 같을까?\n",
        "\n",
        "#세 수 A, B, C가 주어졌을 때, 위의 네 가지 값을 구하는 프로그램을 작성하시오.\n",
        "\n",
        "#첫째 줄에 (A+B)%C,\n",
        "#둘째 줄에 ((A%C) + (B%C))%C\n",
        "#셋째 줄에 (A×B)%C\n",
        "#넷째 줄에 ((A%C) × (B%C))%C를 출력한다.\n",
        "\n",
        "\n",
        "A, B, C = map(int, input().split())\n",
        "\n",
        "print((A+B)%C)\n",
        "print(((A%C) + (B%C))%C)\n",
        "print((A*B)%C)\n",
        "print(((A%C) * (B%C))%C)"
      ],
      "execution_count": null,
      "outputs": []
    },
    {
      "cell_type": "code",
      "metadata": {
        "colab": {
          "base_uri": "https://localhost:8080/"
        },
        "id": "W8ynID06DNGi",
        "outputId": "04f0c811-4ca6-4893-f753-603cf42a1bc7"
      },
      "source": [
        "#2588번\n",
        "\n",
        "#파훼법\n",
        "#곱셈의 공식임\n",
        "#A는 그대로 두고 B를 하나하나씩 구하고 싶을 때  B를 문자열로 두고 풀면 됨\n",
        "\n",
        "a = int(input())\n",
        "b = input()\n",
        "b1 = int(b[2])\n",
        "b2 = int(b[1])\n",
        "b3 = int(b[0])\n",
        "b_int = int(b)\n",
        "\n",
        "\n",
        "print(a*b1)\n",
        "print(a*b2)\n",
        "print(a*b3)\n",
        "print(a*b_int)"
      ],
      "execution_count": null,
      "outputs": [
        {
          "output_type": "stream",
          "text": [
            "472\n",
            "385\n",
            "2360\n",
            "3776\n",
            "1416\n",
            "181720\n"
          ],
          "name": "stdout"
        }
      ]
    },
    {
      "cell_type": "code",
      "metadata": {
        "id": "zsJvKay8EJRA",
        "colab": {
          "base_uri": "https://localhost:8080/"
        },
        "outputId": "4744fccb-549a-4b3a-bc52-9e767f6cc50f"
      },
      "source": [
        "#1330번\n",
        "#if구문\n",
        "\n",
        "a,b = map(int, input().split())\n",
        "\n",
        "if a > b:\n",
        "  print('>')\n",
        "elif a < b:\n",
        "  print('<')\n",
        "elif a == b:\n",
        "  print('==')\n",
        "else:\n",
        "  print('none')"
      ],
      "execution_count": null,
      "outputs": [
        {
          "output_type": "stream",
          "text": [
            "1 2\n",
            "<\n"
          ],
          "name": "stdout"
        }
      ]
    },
    {
      "cell_type": "code",
      "metadata": {
        "colab": {
          "base_uri": "https://localhost:8080/"
        },
        "id": "3vwXzxEcuXvW",
        "outputId": "e6d86f0b-9515-44f2-9345-52b6c8d1a88e"
      },
      "source": [
        "#9498번\n",
        "#if구문\n",
        "\n",
        "#시험 점수를 입력받아 90 ~ 100점은 A,\n",
        "#80 ~ 89점은 B, 70 ~ 79점은 C,\n",
        "#60 ~ 69점은 D, 나머지 점수는 F를 출력하는 프로그램을 작성하시오.\n",
        "\n",
        "exam = int(input())\n",
        "\n",
        "if exam >= 90:\n",
        "  print('A')\n",
        "elif exam >= 80:\n",
        "  print('B')\n",
        "elif exam >= 70:\n",
        "  print('C')\n",
        "elif exam >= 60:\n",
        "  print('D')\n",
        "else:\n",
        "  print('F')"
      ],
      "execution_count": null,
      "outputs": [
        {
          "output_type": "stream",
          "text": [
            "69\n",
            "D\n"
          ],
          "name": "stdout"
        }
      ]
    },
    {
      "cell_type": "code",
      "metadata": {
        "colab": {
          "base_uri": "https://localhost:8080/"
        },
        "id": "tLSxhyczvQlf",
        "outputId": "43d5de53-9b1e-4524-dd96-9cfe228e89a9"
      },
      "source": [
        "#2753번\n",
        "#if구문\n",
        "\n",
        "#연도가 주어졌을 때, 윤년이면 1, 아니면 0을 출력하는 프로그램을 작성하시오.\n",
        "\n",
        "#윤년은 연도가 4의 배수이면서, 100의 배수가 아닐 때 또는 400의 배수일 때이다.\n",
        "\n",
        "#예를 들어, 2012년은 4의 배수이면서 100의 배수가 아니라서 윤년이다.\n",
        "#1900년은 100의 배수이고 400의 배수는 아니기 때문에 윤년이 아니다.\n",
        "#하지만, 2000년은 400의 배수이기 때문에 윤년이다.\n",
        "\n",
        "year = int(input())\n",
        "if (year % 4 == 0 and year % 100 != 0) or year % 400 == 0:\n",
        "  print(1)\n",
        "else:\n",
        "  print(0)"
      ],
      "execution_count": null,
      "outputs": [
        {
          "output_type": "stream",
          "text": [
            "1900\n",
            "0\n"
          ],
          "name": "stdout"
        }
      ]
    },
    {
      "cell_type": "code",
      "metadata": {
        "colab": {
          "base_uri": "https://localhost:8080/"
        },
        "id": "BUF8fUldrpul",
        "outputId": "3f0fea84-b80b-4715-e330-76c587c49873"
      },
      "source": [
        "#14681번\n",
        "#if구문\n",
        "\n",
        "x = int(input())\n",
        "y = int(input())\n",
        "\n",
        "\n",
        "\n",
        "if x < 0 and y <0:\n",
        "  print(3)\n",
        "elif x < 0 and y>0:\n",
        "  print(2)\n",
        "elif x >0 and y>0:\n",
        "  print(1)\n",
        "else:\n",
        "  print(4)"
      ],
      "execution_count": null,
      "outputs": [
        {
          "output_type": "stream",
          "text": [
            "12\n",
            "5\n",
            "1\n"
          ],
          "name": "stdout"
        }
      ]
    },
    {
      "cell_type": "code",
      "metadata": {
        "colab": {
          "base_uri": "https://localhost:8080/"
        },
        "id": "DTZ-oOKZt9C-",
        "outputId": "29c09de4-81e5-4501-bf06-5d21520bac9e"
      },
      "source": [
        "#2884번\n",
        "#if구문\n",
        "\n",
        "H,M = map(int, input().split())\n",
        "\n",
        "if M - 45 < 0:\n",
        "    H -= 1\n",
        "    if H < 0:\n",
        "        H += 24\n",
        "        M += 15\n",
        "        print(H,M)\n",
        "    else:\n",
        "        M += 60 -45\n",
        "        print(H, M)\n",
        "else:\n",
        "  print(H, M) \n"
      ],
      "execution_count": null,
      "outputs": [
        {
          "output_type": "stream",
          "text": [
            "0 30\n",
            "23 45\n"
          ],
          "name": "stdout"
        }
      ]
    },
    {
      "cell_type": "code",
      "metadata": {
        "colab": {
          "base_uri": "https://localhost:8080/"
        },
        "id": "oPRcfiOJv4Q4",
        "outputId": "0ef714dd-6599-42f6-c854-7fd0ba058fab"
      },
      "source": [
        "#one more time\n",
        "\n",
        "H,M = map(int, input().split())\n",
        "if M - 45 < 0:\n",
        "      if H <= 0:\n",
        "          H += 23\n",
        "          M += 15\n",
        "          print(H,M)\n",
        "      else:\n",
        "          H -= 1\n",
        "          M +=15\n",
        "          print(H, M)\n",
        "else:\n",
        "  print(H, M-45)"
      ],
      "execution_count": null,
      "outputs": [
        {
          "output_type": "stream",
          "text": [
            "23 40\n",
            "22 55\n"
          ],
          "name": "stdout"
        }
      ]
    },
    {
      "cell_type": "code",
      "metadata": {
        "id": "q0p-IKmJyBsb"
      },
      "source": [
        ""
      ],
      "execution_count": null,
      "outputs": []
    }
  ]
}