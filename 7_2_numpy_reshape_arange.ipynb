{
  "nbformat": 4,
  "nbformat_minor": 0,
  "metadata": {
    "colab": {
      "name": "7_2_Numpy_Reshape_ arange.ipynb",
      "provenance": [],
      "collapsed_sections": []
    },
    "kernelspec": {
      "name": "python3",
      "display_name": "Python 3"
    },
    "language_info": {
      "name": "python"
    }
  },
  "cells": [
    {
      "cell_type": "code",
      "metadata": {
        "id": "D5rag7ETDZZT"
      },
      "source": [
        "#reshape함수는 np.reshape(변경할 배열, 차원) 또는 배열.reshape(차원)으로\n",
        "\n",
        "#사용 할 수 있으며, 현재의 배열의 차원(1차원,2차원,3차원)을\n",
        "\n",
        "#변경하여 행렬을 반환하거나 하는 경우에 많이 이용되는 함수이다.\n"
      ],
      "execution_count": 5,
      "outputs": []
    },
    {
      "cell_type": "code",
      "metadata": {
        "id": "3p9cBL2UF3TB"
      },
      "source": [
        "#1-1 <1차원과 2차원의 변환>"
      ],
      "execution_count": 6,
      "outputs": []
    },
    {
      "cell_type": "code",
      "metadata": {
        "colab": {
          "base_uri": "https://localhost:8080/"
        },
        "id": "06DrmlL0F7yi",
        "outputId": "37828ce2-4b81-43d3-ca11-22788bae4e16"
      },
      "source": [
        "#차원은 대괄호의 개수로 알수도 있다.\n",
        "\n",
        "import numpy as np\n",
        "a = [1,2,3,4,5,6,7,8]\n",
        "b = np.reshape(a,(2,4))\n",
        "c = np.reshape(a,(4,2))\n",
        "print(b)\n",
        "print('\\n')\n",
        "print(c)"
      ],
      "execution_count": 21,
      "outputs": [
        {
          "output_type": "stream",
          "text": [
            "[[1 2 3 4]\n",
            " [5 6 7 8]]\n",
            "\n",
            "\n",
            "[[1 2]\n",
            " [3 4]\n",
            " [5 6]\n",
            " [7 8]]\n"
          ],
          "name": "stdout"
        }
      ]
    },
    {
      "cell_type": "code",
      "metadata": {
        "id": "bzHDm0k7Fn8V"
      },
      "source": [
        "#1-2 <3차원 반환>"
      ],
      "execution_count": 22,
      "outputs": []
    },
    {
      "cell_type": "code",
      "metadata": {
        "colab": {
          "base_uri": "https://localhost:8080/"
        },
        "id": "0DGEVR_aGmMC",
        "outputId": "58b7a2f2-88cb-44d2-9133-b8a593b65896"
      },
      "source": [
        "a = np.arange(1,9)\n",
        "#0번부터 인덱스 순서대로 값을 넣는다.\n",
        "#np.arange() 는 일정 간격의 정수와 실수 배열을 만든다. 기본간격이 1\n",
        "\n",
        "print(a)"
      ],
      "execution_count": 27,
      "outputs": [
        {
          "output_type": "stream",
          "text": [
            "[1 2 3 4 5 6 7 8]\n"
          ],
          "name": "stdout"
        }
      ]
    },
    {
      "cell_type": "code",
      "metadata": {
        "colab": {
          "base_uri": "https://localhost:8080/"
        },
        "id": "MNA8ksilHtbo",
        "outputId": "34b5c7fb-c1e1-42c3-8363-8b96200fe846"
      },
      "source": [
        "b = np.arange(10)\n",
        "\n",
        "print(b)\n",
        "\n",
        "c = np.arange(2, 20, 3)\n",
        "\n",
        "print(c)"
      ],
      "execution_count": 33,
      "outputs": [
        {
          "output_type": "stream",
          "text": [
            "[0 1 2 3 4 5 6 7 8 9]\n",
            "[ 2  5  8 11 14 17]\n"
          ],
          "name": "stdout"
        }
      ]
    },
    {
      "cell_type": "code",
      "metadata": {
        "colab": {
          "base_uri": "https://localhost:8080/"
        },
        "id": "JUiJsEbuFn-2",
        "outputId": "17460397-225a-4cb4-a5ca-d5c2dd517a56"
      },
      "source": [
        "d = np.arange(1,9)    #1부터 9까지 있음\n",
        "e = a.reshape(2,2,2)\n",
        "print(e)\n",
        "print('-'*20)\n",
        "e             #왜 array라고 뜰까? 배열이라서?\n",
        "\n",
        "#다차원 배열을 처리하는 nd.array객체\n",
        "#np.array = 리스트를 array로 바꾸는 함수임."
      ],
      "execution_count": 34,
      "outputs": [
        {
          "output_type": "stream",
          "text": [
            "[[[1 2]\n",
            "  [3 4]]\n",
            "\n",
            " [[5 6]\n",
            "  [7 8]]]\n",
            "--------------------\n"
          ],
          "name": "stdout"
        },
        {
          "output_type": "execute_result",
          "data": {
            "text/plain": [
              "array([[[1, 2],\n",
              "        [3, 4]],\n",
              "\n",
              "       [[5, 6],\n",
              "        [7, 8]]])"
            ]
          },
          "metadata": {
            "tags": []
          },
          "execution_count": 34
        }
      ]
    },
    {
      "cell_type": "code",
      "metadata": {
        "colab": {
          "base_uri": "https://localhost:8080/"
        },
        "id": "WDZivgkNFoBc",
        "outputId": "f456d2e1-ec4b-479d-b24d-cfb9734b447d"
      },
      "source": [
        "e[0] #3차원에서 첫 번째 행렬의 1행 2열 값 인덱싱"
      ],
      "execution_count": 35,
      "outputs": [
        {
          "output_type": "execute_result",
          "data": {
            "text/plain": [
              "array([[1, 2],\n",
              "       [3, 4]])"
            ]
          },
          "metadata": {
            "tags": []
          },
          "execution_count": 35
        }
      ]
    },
    {
      "cell_type": "code",
      "metadata": {
        "colab": {
          "base_uri": "https://localhost:8080/"
        },
        "id": "Hfg8ZN7HFoEG",
        "outputId": "be1eef1b-6549-4f75-fd7b-11b002dfc1c2"
      },
      "source": [
        "e[0][0,1] #3차원에서 첫 번째 행렬[0]의 1행 2열[0.1] 값 인덱싱"
      ],
      "execution_count": 36,
      "outputs": [
        {
          "output_type": "execute_result",
          "data": {
            "text/plain": [
              "2"
            ]
          },
          "metadata": {
            "tags": []
          },
          "execution_count": 36
        }
      ]
    },
    {
      "cell_type": "code",
      "metadata": {
        "colab": {
          "base_uri": "https://localhost:8080/"
        },
        "id": "xoM1Hx-LFoGx",
        "outputId": "9e0474d2-94b5-4de7-8cf7-ed42015fa517"
      },
      "source": [
        "e[1][1,1]"
      ],
      "execution_count": 44,
      "outputs": [
        {
          "output_type": "execute_result",
          "data": {
            "text/plain": [
              "8"
            ]
          },
          "metadata": {
            "tags": []
          },
          "execution_count": 44
        }
      ]
    },
    {
      "cell_type": "code",
      "metadata": {
        "colab": {
          "base_uri": "https://localhost:8080/"
        },
        "id": "0VeQUpVrDsxz",
        "outputId": "88c27238-c4c2-4738-b58b-6e38cb793e0a"
      },
      "source": [
        "e[1][1,0]"
      ],
      "execution_count": 45,
      "outputs": [
        {
          "output_type": "execute_result",
          "data": {
            "text/plain": [
              "7"
            ]
          },
          "metadata": {
            "tags": []
          },
          "execution_count": 45
        }
      ]
    },
    {
      "cell_type": "code",
      "metadata": {
        "colab": {
          "base_uri": "https://localhost:8080/"
        },
        "id": "NZYvwhCuIhh2",
        "outputId": "e4fb6e85-86d6-4a55-c1bb-7a9a4f8c1254"
      },
      "source": [
        "e[1][0,1]"
      ],
      "execution_count": 46,
      "outputs": [
        {
          "output_type": "execute_result",
          "data": {
            "text/plain": [
              "6"
            ]
          },
          "metadata": {
            "tags": []
          },
          "execution_count": 46
        }
      ]
    },
    {
      "cell_type": "code",
      "metadata": {
        "id": "GYuPdzKbIvAq"
      },
      "source": [
        "#reshape에서 -1의 의미\n",
        "\n",
        "#입력인수로 -1이 들어간 경우가 종종 있음\n",
        "#-1이 의미하는 바는, 변경된 배열의 -1 위치의 차원은\n",
        "#원래 배열의 길이와 남은 차원으로 부터 추정이 된다는 뜻"
      ],
      "execution_count": null,
      "outputs": []
    },
    {
      "cell_type": "code",
      "metadata": {
        "colab": {
          "base_uri": "https://localhost:8080/"
        },
        "id": "V-KzEe4wI5Zf",
        "outputId": "4b57bef8-2f73-4671-897c-befb8f07ee80"
      },
      "source": [
        "x = np.arange(12)\n",
        "print(x)"
      ],
      "execution_count": 52,
      "outputs": [
        {
          "output_type": "stream",
          "text": [
            "[ 0  1  2  3  4  5  6  7  8  9 10 11]\n"
          ],
          "name": "stdout"
        }
      ]
    },
    {
      "cell_type": "code",
      "metadata": {
        "colab": {
          "base_uri": "https://localhost:8080/"
        },
        "id": "INuHvWQlI5cA",
        "outputId": "1e5a2b8f-a61b-4445-83dc-6af781df0405"
      },
      "source": [
        "x = x.reshape(3,4) #3행 4열\n",
        "x"
      ],
      "execution_count": 59,
      "outputs": [
        {
          "output_type": "execute_result",
          "data": {
            "text/plain": [
              "array([[ 0,  1,  2,  3],\n",
              "       [ 4,  5,  6,  7],\n",
              "       [ 8,  9, 10, 11]])"
            ]
          },
          "metadata": {
            "tags": []
          },
          "execution_count": 59
        }
      ]
    },
    {
      "cell_type": "code",
      "metadata": {
        "id": "tiiiK1dYI5eG"
      },
      "source": [
        "#2-1 <reshape(-1, 정수):행의 위치에 -1 인 경우"
      ],
      "execution_count": 54,
      "outputs": []
    },
    {
      "cell_type": "code",
      "metadata": {
        "colab": {
          "base_uri": "https://localhost:8080/"
        },
        "id": "mYRzDJGaI5gN",
        "outputId": "e887bbda-3af8-4ee9-dfaa-a947f84718be"
      },
      "source": [
        "x.reshape(-1,1) #행이 -되는 것이 아니라 아예 다 행을 만들어줌 12개"
      ],
      "execution_count": 60,
      "outputs": [
        {
          "output_type": "execute_result",
          "data": {
            "text/plain": [
              "array([[ 0],\n",
              "       [ 1],\n",
              "       [ 2],\n",
              "       [ 3],\n",
              "       [ 4],\n",
              "       [ 5],\n",
              "       [ 6],\n",
              "       [ 7],\n",
              "       [ 8],\n",
              "       [ 9],\n",
              "       [10],\n",
              "       [11]])"
            ]
          },
          "metadata": {
            "tags": []
          },
          "execution_count": 60
        }
      ]
    },
    {
      "cell_type": "code",
      "metadata": {
        "colab": {
          "base_uri": "https://localhost:8080/"
        },
        "id": "DNP4BRCvJaIG",
        "outputId": "972b79fd-f087-4dda-9a24-70a08c39874d"
      },
      "source": [
        "x.reshape(-1,2)"
      ],
      "execution_count": 61,
      "outputs": [
        {
          "output_type": "execute_result",
          "data": {
            "text/plain": [
              "array([[ 0,  1],\n",
              "       [ 2,  3],\n",
              "       [ 4,  5],\n",
              "       [ 6,  7],\n",
              "       [ 8,  9],\n",
              "       [10, 11]])"
            ]
          },
          "metadata": {
            "tags": []
          },
          "execution_count": 61
        }
      ]
    },
    {
      "cell_type": "code",
      "metadata": {
        "colab": {
          "base_uri": "https://localhost:8080/"
        },
        "id": "MCri74VwJaKc",
        "outputId": "4de0cc19-d502-44e2-860d-8d766698e894"
      },
      "source": [
        "x.reshape(-1,3)"
      ],
      "execution_count": 62,
      "outputs": [
        {
          "output_type": "execute_result",
          "data": {
            "text/plain": [
              "array([[ 0,  1,  2],\n",
              "       [ 3,  4,  5],\n",
              "       [ 6,  7,  8],\n",
              "       [ 9, 10, 11]])"
            ]
          },
          "metadata": {
            "tags": []
          },
          "execution_count": 62
        }
      ]
    },
    {
      "cell_type": "code",
      "metadata": {
        "id": "lzAn55ePJaM4"
      },
      "source": [
        "#즉 행의 위치에 -1을 넣고 열의 갚을 지정해주면 반환될\n",
        "#배열의 행의 수는 알아서 지정이 된다는 소리이다."
      ],
      "execution_count": null,
      "outputs": []
    },
    {
      "cell_type": "code",
      "metadata": {
        "id": "woqxJMZPJaPd"
      },
      "source": [
        "#2-2 <reshape(정수,-1):열의 위치에 -1인 경우"
      ],
      "execution_count": null,
      "outputs": []
    },
    {
      "cell_type": "code",
      "metadata": {
        "colab": {
          "base_uri": "https://localhost:8080/"
        },
        "id": "WrzZ4dWGKD3G",
        "outputId": "73059bd4-5d09-4930-aae1-3394ff551125"
      },
      "source": [
        "x.reshape(1,-1) #열이 12개가 되어버리네"
      ],
      "execution_count": 63,
      "outputs": [
        {
          "output_type": "execute_result",
          "data": {
            "text/plain": [
              "array([[ 0,  1,  2,  3,  4,  5,  6,  7,  8,  9, 10, 11]])"
            ]
          },
          "metadata": {
            "tags": []
          },
          "execution_count": 63
        }
      ]
    },
    {
      "cell_type": "code",
      "metadata": {
        "colab": {
          "base_uri": "https://localhost:8080/"
        },
        "id": "Dvv9qR78KD5P",
        "outputId": "96b139b1-455b-4aec-9e2e-39a8ebfca6ee"
      },
      "source": [
        "x.reshape(2,-1)"
      ],
      "execution_count": 64,
      "outputs": [
        {
          "output_type": "execute_result",
          "data": {
            "text/plain": [
              "array([[ 0,  1,  2,  3,  4,  5],\n",
              "       [ 6,  7,  8,  9, 10, 11]])"
            ]
          },
          "metadata": {
            "tags": []
          },
          "execution_count": 64
        }
      ]
    },
    {
      "cell_type": "code",
      "metadata": {
        "colab": {
          "base_uri": "https://localhost:8080/"
        },
        "id": "R-1_VLOPKD7t",
        "outputId": "1eaf8cac-4043-4af3-89de-4b473908e646"
      },
      "source": [
        "x.reshape(3,-1)"
      ],
      "execution_count": 65,
      "outputs": [
        {
          "output_type": "execute_result",
          "data": {
            "text/plain": [
              "array([[ 0,  1,  2,  3],\n",
              "       [ 4,  5,  6,  7],\n",
              "       [ 8,  9, 10, 11]])"
            ]
          },
          "metadata": {
            "tags": []
          },
          "execution_count": 65
        }
      ]
    },
    {
      "cell_type": "code",
      "metadata": {
        "colab": {
          "base_uri": "https://localhost:8080/"
        },
        "id": "00b5qaSTKD-D",
        "outputId": "c263bba2-8e8f-4aec-9fe5-38782f49da46"
      },
      "source": [
        "x.reshape(4,-1)"
      ],
      "execution_count": 66,
      "outputs": [
        {
          "output_type": "execute_result",
          "data": {
            "text/plain": [
              "array([[ 0,  1,  2],\n",
              "       [ 3,  4,  5],\n",
              "       [ 6,  7,  8],\n",
              "       [ 9, 10, 11]])"
            ]
          },
          "metadata": {
            "tags": []
          },
          "execution_count": 66
        }
      ]
    },
    {
      "cell_type": "code",
      "metadata": {
        "id": "nqSdSESEKb9v"
      },
      "source": [
        "#이것도 마찬가지로, 행의 수를 지정해주면 열은 알아서 자동으로 재배열을 해주는 것"
      ],
      "execution_count": null,
      "outputs": []
    },
    {
      "cell_type": "code",
      "metadata": {
        "id": "uGroz20nKEAx"
      },
      "source": [
        "#2-3 <reshape(-1)인 경우>"
      ],
      "execution_count": null,
      "outputs": []
    },
    {
      "cell_type": "code",
      "metadata": {
        "colab": {
          "base_uri": "https://localhost:8080/"
        },
        "id": "-gu1yHtOKR4s",
        "outputId": "0255f686-605a-4199-bb1f-5d55475ed0e0"
      },
      "source": [
        "x.reshape(-1)"
      ],
      "execution_count": 67,
      "outputs": [
        {
          "output_type": "execute_result",
          "data": {
            "text/plain": [
              "array([ 0,  1,  2,  3,  4,  5,  6,  7,  8,  9, 10, 11])"
            ]
          },
          "metadata": {
            "tags": []
          },
          "execution_count": 67
        }
      ]
    },
    {
      "cell_type": "code",
      "metadata": {
        "colab": {
          "base_uri": "https://localhost:8080/"
        },
        "id": "So74kEsPKR61",
        "outputId": "785d842c-ef52-4bbb-f14e-c47cdc27d56d"
      },
      "source": [
        "x.reshape(1,-1)"
      ],
      "execution_count": 68,
      "outputs": [
        {
          "output_type": "execute_result",
          "data": {
            "text/plain": [
              "array([[ 0,  1,  2,  3,  4,  5,  6,  7,  8,  9, 10, 11]])"
            ]
          },
          "metadata": {
            "tags": []
          },
          "execution_count": 68
        }
      ]
    },
    {
      "cell_type": "code",
      "metadata": {
        "id": "ESzOHeTHKR9Z"
      },
      "source": [
        "#1만 들어가면 1차원 배열을 반환한다. 모양상 x.reshape(1,-1)과\n",
        "#같으나 이는 (1,12)인 2차원 배열이다 !!대괄호 수로 확인 가능"
      ],
      "execution_count": null,
      "outputs": []
    }
  ]
}