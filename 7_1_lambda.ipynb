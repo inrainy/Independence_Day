{
  "nbformat": 4,
  "nbformat_minor": 0,
  "metadata": {
    "colab": {
      "name": "7.1.lambda.ipynb",
      "provenance": []
    },
    "kernelspec": {
      "name": "python3",
      "display_name": "Python 3"
    },
    "language_info": {
      "name": "python"
    }
  },
  "cells": [
    {
      "cell_type": "code",
      "metadata": {
        "id": "L3zOeZC1umWM"
      },
      "source": [
        "#함수명 = lambda 파라미터 : 함수식\n",
        "import numpy as np"
      ],
      "execution_count": 2,
      "outputs": []
    },
    {
      "cell_type": "code",
      "metadata": {
        "id": "CpHpCwR2uvlE"
      },
      "source": [
        "def adder1(a,b):\n",
        "  return a+b"
      ],
      "execution_count": 3,
      "outputs": []
    },
    {
      "cell_type": "code",
      "metadata": {
        "id": "rDVWR1utuz6K"
      },
      "source": [
        "adder2 = lambda c,d : c+d"
      ],
      "execution_count": 6,
      "outputs": []
    },
    {
      "cell_type": "code",
      "metadata": {
        "colab": {
          "base_uri": "https://localhost:8080/"
        },
        "id": "Z7dQVZ7Tu4W5",
        "outputId": "6597dd47-bc26-43f6-ae27-49efae54ca57"
      },
      "source": [
        "print(adder1(1,2))\n",
        "print(adder2(1,2))"
      ],
      "execution_count": 7,
      "outputs": [
        {
          "output_type": "stream",
          "text": [
            "3\n",
            "3\n"
          ],
          "name": "stdout"
        }
      ]
    },
    {
      "cell_type": "code",
      "metadata": {
        "id": "pb4IIpHzu8us"
      },
      "source": [
        "#람다 함수는 def함수와 달리 1줄로 정의 할 수 있음.\n",
        "#복잡한 코드를 실행하는 함수에는 부적합 하지만, 간단한 함수를 만들 때에 유용함"
      ],
      "execution_count": null,
      "outputs": []
    },
    {
      "cell_type": "markdown",
      "metadata": {
        "id": "TDZXTi-SvVIM"
      },
      "source": [
        "1. input().split()으로 고유번호 리스트를 입력받는다.\n",
        "\n",
        "2. map(int, input().split())으로 리스트의 요소를 정수형으로 변환한다.\n",
        "\n",
        "3. map()와 lamda x : x**2 를 통해 요소의 제곱 리스트를 만든다.\n",
        "\n",
        "4. sum()으로 고유번호 제곱의 합을 구한다."
      ]
    },
    {
      "cell_type": "code",
      "metadata": {
        "colab": {
          "base_uri": "https://localhost:8080/"
        },
        "id": "RIRD0NgmvWJb",
        "outputId": "f0e5d165-e851-49b4-c90d-0e68fb9181a1"
      },
      "source": [
        "print(sum(map(lambda x : x**2, list(map(int, input().split())))))"
      ],
      "execution_count": 8,
      "outputs": [
        {
          "output_type": "stream",
          "text": [
            "4\n",
            "16\n"
          ],
          "name": "stdout"
        }
      ]
    },
    {
      "cell_type": "code",
      "metadata": {
        "colab": {
          "base_uri": "https://localhost:8080/"
        },
        "id": "olKnBIE8vWQw",
        "outputId": "f1be0f42-1fc2-4d01-a1f2-e057a2ec7d00"
      },
      "source": [
        "a = lambda x, y : x+y\n",
        "print(100,200)\n",
        "print('ice','coffee')"
      ],
      "execution_count": 9,
      "outputs": [
        {
          "output_type": "stream",
          "text": [
            "100 200\n",
            "ice coffee\n"
          ],
          "name": "stdout"
        }
      ]
    },
    {
      "cell_type": "code",
      "metadata": {
        "colab": {
          "base_uri": "https://localhost:8080/"
        },
        "id": "3T5s2ww7wOR8",
        "outputId": "05eb4bb3-dee6-4ae6-c311-066fd1a4b670"
      },
      "source": [
        "f = lambda x, y = 1: x + y\n",
        "\n",
        "print(f(100))"
      ],
      "execution_count": 10,
      "outputs": [
        {
          "output_type": "stream",
          "text": [
            "101\n"
          ],
          "name": "stdout"
        }
      ]
    },
    {
      "cell_type": "code",
      "metadata": {
        "colab": {
          "base_uri": "https://localhost:8080/"
        },
        "id": "HSmC1yx0waya",
        "outputId": "ababd72f-270d-40bb-fdc8-718565ce5d0a"
      },
      "source": [
        "f(200,300)"
      ],
      "execution_count": 11,
      "outputs": [
        {
          "output_type": "execute_result",
          "data": {
            "text/plain": [
              "500"
            ]
          },
          "metadata": {
            "tags": []
          },
          "execution_count": 11
        }
      ]
    },
    {
      "cell_type": "code",
      "metadata": {
        "colab": {
          "base_uri": "https://localhost:8080/"
        },
        "id": "Rl_L0umWwnfK",
        "outputId": "ed9738aa-eafe-49eb-a32c-6ce4dd3a8d5e"
      },
      "source": [
        "#람다를 함수로 구현하는 식\n",
        "\n",
        "def f1(x):\n",
        "  return x * x + 5 * x - 5\n",
        "\n",
        "\n",
        "def f2(x):\n",
        "  return x* x* x\n",
        "\n",
        "\n",
        "def f3(func):\n",
        "  return[func(x) for x in range(-10, 10)]\n",
        "\n",
        "\n",
        "print(f3(f1))\n",
        "print(f3(f2))"
      ],
      "execution_count": 12,
      "outputs": [
        {
          "output_type": "stream",
          "text": [
            "[45, 31, 19, 9, 1, -5, -9, -11, -11, -9, -5, 1, 9, 19, 31, 45, 61, 79, 99, 121]\n",
            "[-1000, -729, -512, -343, -216, -125, -64, -27, -8, -1, 0, 1, 8, 27, 64, 125, 216, 343, 512, 729]\n"
          ],
          "name": "stdout"
        }
      ]
    },
    {
      "cell_type": "code",
      "metadata": {
        "id": "a0m8bmd9xhXo"
      },
      "source": [
        "#람다를 함수로 구현하는 식\n",
        "\n",
        "def f1(x):\n",
        "  return x * x + 5 * x - 5\n",
        "\n",
        "\n",
        "def f2(x):\n",
        "  return x* x* x\n",
        "\n",
        "\n",
        "def f3(func):\n",
        "  return[func(x) for x in range(-10, 10)]\n",
        "\n",
        "\n",
        "print(f3(f1))\n",
        "print(f3(f2))"
      ],
      "execution_count": null,
      "outputs": []
    },
    {
      "cell_type": "code",
      "metadata": {
        "colab": {
          "base_uri": "https://localhost:8080/"
        },
        "id": "BzYW9gOQxbm9",
        "outputId": "4daf3898-26d0-4125-ac90-159f05bc4b24"
      },
      "source": [
        "def f3(func):\n",
        "  return[func(x) for x in range(-10, 10)]\n",
        "\n",
        "\n",
        "print(f3(lambda x : x * x + 5 * x - 5))\n",
        "#f3(f1)\n",
        "print(f3(lambda x : x * x* x))\n",
        "#f3(f1)"
      ],
      "execution_count": 23,
      "outputs": [
        {
          "output_type": "stream",
          "text": [
            "[45, 31, 19, 9, 1, -5, -9, -11, -11, -9, -5, 1, 9, 19, 31, 45, 61, 79, 99, 121]\n",
            "[-1000, -729, -512, -343, -216, -125, -64, -27, -8, -1, 0, 1, 8, 27, 64, 125, 216, 343, 512, 729]\n"
          ],
          "name": "stdout"
        }
      ]
    },
    {
      "cell_type": "code",
      "metadata": {
        "id": "jAdu8fYNyKFj"
      },
      "source": [
        ":"
      ],
      "execution_count": null,
      "outputs": []
    }
  ]
}