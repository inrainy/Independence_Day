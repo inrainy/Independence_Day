{
  "nbformat": 4,
  "nbformat_minor": 0,
  "metadata": {
    "colab": {
      "name": "7_2_numpy_transpose_.ipynb",
      "provenance": [],
      "collapsed_sections": []
    },
    "kernelspec": {
      "name": "python3",
      "display_name": "Python 3"
    },
    "language_info": {
      "name": "python"
    }
  },
  "cells": [
    {
      "cell_type": "code",
      "metadata": {
        "id": "sglkmgI_LyMs"
      },
      "source": [
        "import numpy as np"
      ],
      "execution_count": 2,
      "outputs": []
    },
    {
      "cell_type": "code",
      "metadata": {
        "colab": {
          "base_uri": "https://localhost:8080/"
        },
        "id": "vtjImlOcMHRd",
        "outputId": "1800e26f-202c-4e16-90e4-d80c5a2db447"
      },
      "source": [
        "#transpose\n",
        "\n",
        "a = np.array([[0,1,2],[3,4,5]])\n",
        "result = a.transpose()\n",
        "print (a)\n"
      ],
      "execution_count": 3,
      "outputs": [
        {
          "output_type": "stream",
          "text": [
            "[[0 1 2]\n",
            " [3 4 5]]\n"
          ],
          "name": "stdout"
        }
      ]
    },
    {
      "cell_type": "code",
      "metadata": {
        "colab": {
          "base_uri": "https://localhost:8080/"
        },
        "id": "0dQCzKCkMVrq",
        "outputId": "090eac82-ab26-4b06-fcbf-1d5d0174a367"
      },
      "source": [
        "b = np.array([[0,1,2,3,4], [5,6,7,8,9],[10, 11, 12, 13,14]])\n",
        "\n",
        "print(b)"
      ],
      "execution_count": 4,
      "outputs": [
        {
          "output_type": "stream",
          "text": [
            "[[ 0  1  2  3  4]\n",
            " [ 5  6  7  8  9]\n",
            " [10 11 12 13 14]]\n"
          ],
          "name": "stdout"
        }
      ]
    },
    {
      "cell_type": "code",
      "metadata": {
        "colab": {
          "base_uri": "https://localhost:8080/"
        },
        "id": "6SgHUHfJOJzc",
        "outputId": "bbf158b5-03b7-490d-c8d9-77586da461ec"
      },
      "source": [
        "print(b[2,3])"
      ],
      "execution_count": 5,
      "outputs": [
        {
          "output_type": "stream",
          "text": [
            "13\n"
          ],
          "name": "stdout"
        }
      ]
    },
    {
      "cell_type": "code",
      "metadata": {
        "colab": {
          "base_uri": "https://localhost:8080/"
        },
        "id": "CMnAB3vEOL90",
        "outputId": "6c4ecea6-058e-4039-cec6-3b2c1ff7c5d9"
      },
      "source": [
        "#시퀀스 슬라이싱\n",
        "\n",
        "b = np.array([[0,1,2,3,4], [5,6,7,8,9],[10, 11, 12, 13,14]])\n",
        "\n",
        "print(b[:, 0:4])"
      ],
      "execution_count": 6,
      "outputs": [
        {
          "output_type": "stream",
          "text": [
            "[[ 0  1  2  3]\n",
            " [ 5  6  7  8]\n",
            " [10 11 12 13]]\n"
          ],
          "name": "stdout"
        }
      ]
    },
    {
      "cell_type": "code",
      "metadata": {
        "colab": {
          "base_uri": "https://localhost:8080/"
        },
        "id": "xjh9tFrVOYF0",
        "outputId": "88cc5afa-f6c8-4ec0-ee71-5439e4fb77e9"
      },
      "source": [
        "print(b[[0,2], 1::2])"
      ],
      "execution_count": 24,
      "outputs": [
        {
          "output_type": "stream",
          "text": [
            "[[ 1  3]\n",
            " [11 13]]\n"
          ],
          "name": "stdout"
        }
      ]
    },
    {
      "cell_type": "code",
      "metadata": {
        "colab": {
          "base_uri": "https://localhost:8080/"
        },
        "id": "JcTg2AXHOoRg",
        "outputId": "5cb0e989-3ee7-4673-9169-8d4086824371"
      },
      "source": [
        "#transpose\n",
        "\n",
        "arr = np.arange(16)\n",
        "arr\n"
      ],
      "execution_count": 31,
      "outputs": [
        {
          "output_type": "execute_result",
          "data": {
            "text/plain": [
              "array([ 0,  1,  2,  3,  4,  5,  6,  7,  8,  9, 10, 11, 12, 13, 14, 15])"
            ]
          },
          "metadata": {
            "tags": []
          },
          "execution_count": 31
        }
      ]
    },
    {
      "cell_type": "code",
      "metadata": {
        "colab": {
          "base_uri": "https://localhost:8080/"
        },
        "id": "uj0jnaVkPN5N",
        "outputId": "2d8c8f2c-8d3c-4b44-88a5-9c781daa48f1"
      },
      "source": [
        "arr = np.arange(16).reshape((2,2,4))\n",
        "print(arr)"
      ],
      "execution_count": 37,
      "outputs": [
        {
          "output_type": "stream",
          "text": [
            "[[[ 0  1  2  3]\n",
            "  [ 4  5  6  7]]\n",
            "\n",
            " [[ 8  9 10 11]\n",
            "  [12 13 14 15]]]\n"
          ],
          "name": "stdout"
        }
      ]
    },
    {
      "cell_type": "code",
      "metadata": {
        "colab": {
          "base_uri": "https://localhost:8080/"
        },
        "id": "l9sOwHYkPkno",
        "outputId": "df05df12-4e2a-4fa6-e14b-c37383d7f883"
      },
      "source": [
        "print(arr.transpose((1,0,2)))\n",
        "\n",
        "\n",
        "#원래 행렬이 i*J*k 차원이면\n",
        "#0 = i\n",
        "#1 = j\n",
        "#2 = k\n",
        "\n",
        "#이제 j*i*k로 바꿀거라는 이야기임\n",
        "\n",
        "#k크기 행렬을 편의상 원소 하나로 보고 전체 행렬은 i*j가 되는데\n",
        "#rmsid j*i로 바꾸는 거임."
      ],
      "execution_count": 38,
      "outputs": [
        {
          "output_type": "stream",
          "text": [
            "[[[ 0  1  2  3]\n",
            "  [ 8  9 10 11]]\n",
            "\n",
            " [[ 4  5  6  7]\n",
            "  [12 13 14 15]]]\n"
          ],
          "name": "stdout"
        }
      ]
    },
    {
      "cell_type": "code",
      "metadata": {
        "colab": {
          "base_uri": "https://localhost:8080/"
        },
        "id": "Lx0-VbO-QSR-",
        "outputId": "5d327851-e87a-4a5f-a3df-825de2b9fecb"
      },
      "source": [
        "print(arr.transpose((2,0,1)))"
      ],
      "execution_count": 39,
      "outputs": [
        {
          "output_type": "stream",
          "text": [
            "[[[ 0  4]\n",
            "  [ 8 12]]\n",
            "\n",
            " [[ 1  5]\n",
            "  [ 9 13]]\n",
            "\n",
            " [[ 2  6]\n",
            "  [10 14]]\n",
            "\n",
            " [[ 3  7]\n",
            "  [11 15]]]\n"
          ],
          "name": "stdout"
        }
      ]
    },
    {
      "cell_type": "code",
      "metadata": {
        "id": "W-1AoA3JQ0Na"
      },
      "source": [
        "#전치 행렬 더 공부하자..."
      ],
      "execution_count": null,
      "outputs": []
    },
    {
      "cell_type": "code",
      "metadata": {
        "id": "fm-y8otmRznF"
      },
      "source": [
        "# 7.5 추가 공부"
      ],
      "execution_count": null,
      "outputs": []
    },
    {
      "cell_type": "markdown",
      "metadata": {
        "id": "ZJlBLwQ3KT4C"
      },
      "source": [
        "![numpy_transpose_01.png](data:image/png;base64,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)"
      ]
    },
    {
      "cell_type": "code",
      "metadata": {
        "colab": {
          "base_uri": "https://localhost:8080/"
        },
        "id": "QmJng7zbKOup",
        "outputId": "308be745-8a8b-4df3-d45b-d7a5e94831a5"
      },
      "source": [
        "a = np.arange(1,10).reshape(3,3)\n",
        "b = np.transpose(a)\n",
        "\n",
        "print(a)\n",
        "print(b)"
      ],
      "execution_count": 7,
      "outputs": [
        {
          "output_type": "stream",
          "text": [
            "[[1 2 3]\n",
            " [4 5 6]\n",
            " [7 8 9]]\n",
            "[[1 4 7]\n",
            " [2 5 8]\n",
            " [3 6 9]]\n"
          ],
          "name": "stdout"
        }
      ]
    },
    {
      "cell_type": "code",
      "metadata": {
        "colab": {
          "base_uri": "https://localhost:8080/"
        },
        "id": "ynKuDu2PKOw1",
        "outputId": "bc096731-10de-46e6-a6cc-174967eac1d7"
      },
      "source": [
        "a = np.array(([1,2,3], [4,5,6]))\n",
        "\n",
        "print(a)\n",
        "print(np.transpose(a))"
      ],
      "execution_count": 8,
      "outputs": [
        {
          "output_type": "stream",
          "text": [
            "[[1 2 3]\n",
            " [4 5 6]]\n",
            "[[1 4]\n",
            " [2 5]\n",
            " [3 6]]\n"
          ],
          "name": "stdout"
        }
      ]
    },
    {
      "cell_type": "code",
      "metadata": {
        "id": "GBMRtt4pKOzW"
      },
      "source": [
        ""
      ],
      "execution_count": null,
      "outputs": []
    },
    {
      "cell_type": "code",
      "metadata": {
        "id": "jR7fN36BRzpX"
      },
      "source": [
        "#enumerate 7.5 update"
      ],
      "execution_count": null,
      "outputs": []
    },
    {
      "cell_type": "code",
      "metadata": {
        "id": "dOoNWu4QM_HF"
      },
      "source": [
        "#예제가 있는 자료형"
      ],
      "execution_count": null,
      "outputs": []
    },
    {
      "cell_type": "code",
      "metadata": {
        "colab": {
          "base_uri": "https://localhost:8080/"
        },
        "id": "qgjueoiJMDsm",
        "outputId": "0a01a975-2bf1-40da-9862-687491b52f37"
      },
      "source": [
        "data = enumerate((1,2,3))\n",
        "\n",
        "print('data : ', data)\n",
        "print('type : ', type(data))\n",
        "\n",
        "#enumerate 객체를 반환한다"
      ],
      "execution_count": 9,
      "outputs": [
        {
          "output_type": "stream",
          "text": [
            "data :  <enumerate object at 0x7fb18d546d20>\n",
            "type :  <class 'enumerate'>\n"
          ],
          "name": "stdout"
        }
      ]
    },
    {
      "cell_type": "code",
      "metadata": {
        "colab": {
          "base_uri": "https://localhost:8080/"
        },
        "id": "OZh26Z4VMDu0",
        "outputId": "6a85de09-de20-4362-f2cc-a96fdd3de865"
      },
      "source": [
        "data = enumerate((1,2,3)) #자료형 튜플에서\n",
        "\n",
        "for i , value in data:\n",
        "  print(\"index : {}, value : {}\".format(i,value))"
      ],
      "execution_count": 10,
      "outputs": [
        {
          "output_type": "stream",
          "text": [
            "index : 0, value : 1\n",
            "index : 1, value : 2\n",
            "index : 2, value : 3\n"
          ],
          "name": "stdout"
        }
      ]
    },
    {
      "cell_type": "code",
      "metadata": {
        "colab": {
          "base_uri": "https://localhost:8080/"
        },
        "id": "pJk31vUWMfog",
        "outputId": "964c9db2-3aab-4644-82c2-a12e2dd9dc23"
      },
      "source": [
        "data = enumerate('python은 재밌어!') #자료형 문자열에서\n",
        "\n",
        "for i, value in data:\n",
        "  print('index : {}, value : {}'.format(i,value))"
      ],
      "execution_count": 11,
      "outputs": [
        {
          "output_type": "stream",
          "text": [
            "index : 0, value : p\n",
            "index : 1, value : y\n",
            "index : 2, value : t\n",
            "index : 3, value : h\n",
            "index : 4, value : o\n",
            "index : 5, value : n\n",
            "index : 6, value : 은\n",
            "index : 7, value :  \n",
            "index : 8, value : 재\n",
            "index : 9, value : 밌\n",
            "index : 10, value : 어\n",
            "index : 11, value : !\n"
          ],
          "name": "stdout"
        }
      ]
    },
    {
      "cell_type": "code",
      "metadata": {
        "colab": {
          "base_uri": "https://localhost:8080/"
        },
        "id": "FHRq4JVxMtuI",
        "outputId": "159bb7db-cedd-4194-afba-675c37bd9a41"
      },
      "source": [
        "list_data = [1,2,3] #자료형 리스트에서\n",
        "data = enumerate(list_data)\n",
        "\n",
        "for i , value in data:\n",
        "  print(\"index : {}, value : {}\".format(i,value))"
      ],
      "execution_count": 12,
      "outputs": [
        {
          "output_type": "stream",
          "text": [
            "index : 0, value : 1\n",
            "index : 1, value : 2\n",
            "index : 2, value : 3\n"
          ],
          "name": "stdout"
        }
      ]
    },
    {
      "cell_type": "code",
      "metadata": {
        "id": "rOMbF5pPM8mJ"
      },
      "source": [
        ""
      ],
      "execution_count": null,
      "outputs": []
    },
    {
      "cell_type": "code",
      "metadata": {
        "id": "Gcf6_W0bNEYH"
      },
      "source": [
        "#순서 없는 자료형에서 enumerate"
      ],
      "execution_count": null,
      "outputs": []
    },
    {
      "cell_type": "code",
      "metadata": {
        "colab": {
          "base_uri": "https://localhost:8080/"
        },
        "id": "Q7xnrNTWNFdU",
        "outputId": "3e48f9c2-40a4-4db4-fee4-e566d2409570"
      },
      "source": [
        "dict1 = {'나이' : 24, '학교' : 'gis'}                   #자료형 dict\n",
        "data = enumerate(dict1)\n",
        "#없는대신, key값을 통해 value를 얻는다.\n",
        "\n",
        "for i, value in data:\n",
        "  print('index : {}, value : {}'.format(i, value))"
      ],
      "execution_count": 14,
      "outputs": [
        {
          "output_type": "stream",
          "text": [
            "index : 0, value : 나이\n",
            "index : 1, value : 학교\n"
          ],
          "name": "stdout"
        }
      ]
    },
    {
      "cell_type": "code",
      "metadata": {
        "colab": {
          "base_uri": "https://localhost:8080/"
        },
        "id": "Az7wH3w1NFf4",
        "outputId": "e4dcfe80-75cc-4755-cb23-ac28075d306c"
      },
      "source": [
        "data = enumerate({1,2,3,3})                            #자료형 : set\n",
        "\n",
        "for i ,value in data:\n",
        "  print(\"index : {}, value : {}\".format(i, value))\n",
        "\n",
        "#중복을 허용하지 않고 순서가 없다."
      ],
      "execution_count": 17,
      "outputs": [
        {
          "output_type": "stream",
          "text": [
            "index : 0, value : 1\n",
            "index : 1, value : 2\n",
            "index : 2, value : 3\n"
          ],
          "name": "stdout"
        }
      ]
    },
    {
      "cell_type": "code",
      "metadata": {
        "id": "TvML-aA8No1x"
      },
      "source": [
        ""
      ],
      "execution_count": null,
      "outputs": []
    },
    {
      "cell_type": "code",
      "metadata": {
        "id": "hO1m6D6YN5IH"
      },
      "source": [
        "#다차원 리스트와 ndarray 에서 나오는 결과는>?"
      ],
      "execution_count": null,
      "outputs": []
    },
    {
      "cell_type": "code",
      "metadata": {
        "colab": {
          "base_uri": "https://localhost:8080/"
        },
        "id": "2xUrTVBvN5KV",
        "outputId": "6dceed83-4aa3-43f0-dd6e-b5c5dbf43d7f"
      },
      "source": [
        "#list형태\n",
        "\n",
        "list_data = [[1,2,3], [4,5,6]]                 #2차원 (2,3)리스트\n",
        "np.shape(list_data)\n",
        "print('np.shape(list_data) : ', np.shape(list_data))\n",
        "\n",
        "\n",
        "data = enumerate(list_data)\n",
        "for i , value in data:\n",
        "  print('index  : {},value : {}'.format(i,value))\n",
        "\n",
        "\n",
        "  #index : 2차원의 순서\n",
        "  #value : 1차원의 값"
      ],
      "execution_count": 23,
      "outputs": [
        {
          "output_type": "stream",
          "text": [
            "np.shape(list_data) :  (2, 3)\n",
            "index  : 0,value : [1, 2, 3]\n",
            "index  : 1,value : [4, 5, 6]\n"
          ],
          "name": "stdout"
        }
      ]
    },
    {
      "cell_type": "code",
      "metadata": {
        "colab": {
          "base_uri": "https://localhost:8080/"
        },
        "id": "Pix08h9xN5Pu",
        "outputId": "bc878e87-06a8-4894-c6d5-a12ab0bac9ba"
      },
      "source": [
        "list_data = [[[1,2,3], [4,5,6]],[[7,8,9],[10,11,12]]]            #3차원(2,2,3)리스트\n",
        "np.shape(list_data)\n",
        "print('np.shape(list_data) : ', np.shape(list_data))\n",
        "\n",
        "data = enumerate(list_data)\n",
        "for i , value in data:\n",
        "  print(\"index : {}, value : {}\".format(i,value))\n",
        "\n",
        "\n",
        "#index : 3차원의 순서\n",
        "#value : 2차원의 값"
      ],
      "execution_count": 24,
      "outputs": [
        {
          "output_type": "stream",
          "text": [
            "np.shape(list_data) :  (2, 2, 3)\n",
            "index : 0, value : [[1, 2, 3], [4, 5, 6]]\n",
            "index : 1, value : [[7, 8, 9], [10, 11, 12]]\n"
          ],
          "name": "stdout"
        }
      ]
    },
    {
      "cell_type": "code",
      "metadata": {
        "id": "rc8s-I8JN5SE"
      },
      "source": [
        ""
      ],
      "execution_count": null,
      "outputs": []
    },
    {
      "cell_type": "code",
      "metadata": {
        "id": "sQUsKounN5T7"
      },
      "source": [
        "#numpy.ndarray의 형태"
      ],
      "execution_count": null,
      "outputs": []
    },
    {
      "cell_type": "code",
      "metadata": {
        "colab": {
          "base_uri": "https://localhost:8080/"
        },
        "id": "6RhW6D6bPJ3A",
        "outputId": "216aad86-6ee8-48f1-c7c8-f5c6e97c4714"
      },
      "source": [
        "x = np.arange(12).reshape(2,2,3)             #3ckdnjs(2,2,3)\n",
        "\n",
        "print(x)\n",
        "print('type :', type(x))"
      ],
      "execution_count": 28,
      "outputs": [
        {
          "output_type": "stream",
          "text": [
            "[[[ 0  1  2]\n",
            "  [ 3  4  5]]\n",
            "\n",
            " [[ 6  7  8]\n",
            "  [ 9 10 11]]]\n",
            "type : <class 'numpy.ndarray'>\n"
          ],
          "name": "stdout"
        }
      ]
    },
    {
      "cell_type": "code",
      "metadata": {
        "colab": {
          "base_uri": "https://localhost:8080/"
        },
        "id": "PZaNJefmPJ5j",
        "outputId": "80350aac-c858-44e0-c733-c9fb794d976e"
      },
      "source": [
        "data = enumerate(x)\n",
        "\n",
        "for i ,value in data:\n",
        "  print(\"index : {},value : {}\".format(i,value))\n",
        "\n",
        "#index : 3차원의 순서\n",
        "#value : 2차원의 값\n",
        "\n",
        "\n",
        "#===========>ndarray도 list와 비슷하게 결과 값을 나타내는 것을 알 수 있음"
      ],
      "execution_count": 29,
      "outputs": [
        {
          "output_type": "stream",
          "text": [
            "index : 0,value : [[0 1 2]\n",
            " [3 4 5]]\n",
            "index : 1,value : [[ 6  7  8]\n",
            " [ 9 10 11]]\n"
          ],
          "name": "stdout"
        }
      ]
    },
    {
      "cell_type": "code",
      "metadata": {
        "id": "pERpU4okPJ8G"
      },
      "source": [
        ""
      ],
      "execution_count": null,
      "outputs": []
    },
    {
      "cell_type": "code",
      "metadata": {
        "id": "PjJQdJHnPJ-U"
      },
      "source": [
        ""
      ],
      "execution_count": null,
      "outputs": []
    },
    {
      "cell_type": "code",
      "metadata": {
        "id": "KlzMbBBWPKA-"
      },
      "source": [
        ""
      ],
      "execution_count": null,
      "outputs": []
    }
  ]
}